{
 "cells": [
  {
   "cell_type": "code",
   "execution_count": 3,
   "id": "bd48aaeb",
   "metadata": {},
   "outputs": [
    {
     "name": "stdout",
     "output_type": "stream",
     "text": [
      "Collecting pyarrow\n",
      "  Downloading pyarrow-16.1.0-cp39-cp39-manylinux_2_28_x86_64.whl (40.8 MB)\n",
      "\u001b[K     |████████████████████████████████| 40.8 MB 22.8 MB/s eta 0:00:01\n",
      "\u001b[?25hRequirement already satisfied: numpy>=1.16.6 in /home/codespace/anaconda3/lib/python3.9/site-packages (from pyarrow) (1.21.5)\n",
      "Installing collected packages: pyarrow\n",
      "Successfully installed pyarrow-16.1.0\n"
     ]
    }
   ],
   "source": [
    "!pip install pyarrow"
   ]
  },
  {
   "cell_type": "code",
   "execution_count": 7,
   "id": "f5845192",
   "metadata": {},
   "outputs": [],
   "source": [
    "import pandas as pd\n",
    "import pyarrow"
   ]
  },
  {
   "cell_type": "code",
   "execution_count": 4,
   "id": "06a706c6",
   "metadata": {},
   "outputs": [],
   "source": [
    "from sklearn.feature_extraction import DictVectorizer\n",
    "from sklearn.linear_model import LinearRegression\n",
    "from sklearn.linear_model import Lasso\n",
    "from sklearn.linear_model import Ridge\n",
    "\n",
    "from sklearn.metrics import mean_squared_error"
   ]
  },
  {
   "cell_type": "code",
   "execution_count": 4,
   "id": "2f822943",
   "metadata": {},
   "outputs": [
    {
     "data": {
      "text/plain": [
       "'1.4.2'"
      ]
     },
     "execution_count": 4,
     "metadata": {},
     "output_type": "execute_result"
    }
   ],
   "source": [
    "pd.__version__"
   ]
  },
  {
   "cell_type": "code",
   "execution_count": 5,
   "id": "1b724280",
   "metadata": {},
   "outputs": [],
   "source": [
    "import sklearn"
   ]
  },
  {
   "cell_type": "code",
   "execution_count": 6,
   "id": "31b0d414",
   "metadata": {},
   "outputs": [
    {
     "name": "stdout",
     "output_type": "stream",
     "text": [
      "Python 3.9.12\r\n"
     ]
    }
   ],
   "source": [
    "!python -V"
   ]
  },
  {
   "cell_type": "code",
   "execution_count": null,
   "id": "4fa81132",
   "metadata": {},
   "outputs": [],
   "source": []
  },
  {
   "cell_type": "markdown",
   "id": "94be29bc",
   "metadata": {},
   "source": [
    "# Homework"
   ]
  },
  {
   "cell_type": "markdown",
   "id": "9cf5d160",
   "metadata": {},
   "source": [
    "## Q1. Downloading the data\n"
   ]
  },
  {
   "cell_type": "markdown",
   "id": "159d7207",
   "metadata": {},
   "source": [
    "We'll use the same NYC taxi dataset, but instead of \"Green Taxi Trip Records\", we'll use \"Yellow Taxi Trip Records\".\n",
    "\n",
    "Download the data for January and February 2023.\n",
    "\n",
    "Read the data for January. How many columns are there?"
   ]
  },
  {
   "cell_type": "markdown",
   "id": "935128c8",
   "metadata": {},
   "source": [
    "https://d37ci6vzurychx.cloudfront.net/trip-data/yellow_tripdata_2023-01.parquet\n",
    "\n",
    "https://d37ci6vzurychx.cloudfront.net/trip-data/yellow_tripdata_2023-02.parquet"
   ]
  },
  {
   "cell_type": "markdown",
   "id": "beef389d",
   "metadata": {},
   "source": [
    "### Reading the data for January"
   ]
  },
  {
   "cell_type": "code",
   "execution_count": 5,
   "id": "c9970d18",
   "metadata": {},
   "outputs": [],
   "source": [
    "YT_jan_rides = pd.read_parquet('https://d37ci6vzurychx.cloudfront.net/trip-data/yellow_tripdata_2023-01.parquet')"
   ]
  },
  {
   "cell_type": "code",
   "execution_count": 6,
   "id": "30b6b60e",
   "metadata": {},
   "outputs": [
    {
     "data": {
      "text/html": [
       "<div>\n",
       "<style scoped>\n",
       "    .dataframe tbody tr th:only-of-type {\n",
       "        vertical-align: middle;\n",
       "    }\n",
       "\n",
       "    .dataframe tbody tr th {\n",
       "        vertical-align: top;\n",
       "    }\n",
       "\n",
       "    .dataframe thead th {\n",
       "        text-align: right;\n",
       "    }\n",
       "</style>\n",
       "<table border=\"1\" class=\"dataframe\">\n",
       "  <thead>\n",
       "    <tr style=\"text-align: right;\">\n",
       "      <th></th>\n",
       "      <th>VendorID</th>\n",
       "      <th>tpep_pickup_datetime</th>\n",
       "      <th>tpep_dropoff_datetime</th>\n",
       "      <th>passenger_count</th>\n",
       "      <th>trip_distance</th>\n",
       "      <th>RatecodeID</th>\n",
       "      <th>store_and_fwd_flag</th>\n",
       "      <th>PULocationID</th>\n",
       "      <th>DOLocationID</th>\n",
       "      <th>payment_type</th>\n",
       "      <th>fare_amount</th>\n",
       "      <th>extra</th>\n",
       "      <th>mta_tax</th>\n",
       "      <th>tip_amount</th>\n",
       "      <th>tolls_amount</th>\n",
       "      <th>improvement_surcharge</th>\n",
       "      <th>total_amount</th>\n",
       "      <th>congestion_surcharge</th>\n",
       "      <th>airport_fee</th>\n",
       "    </tr>\n",
       "  </thead>\n",
       "  <tbody>\n",
       "    <tr>\n",
       "      <th>0</th>\n",
       "      <td>2</td>\n",
       "      <td>2023-01-01 00:32:10</td>\n",
       "      <td>2023-01-01 00:40:36</td>\n",
       "      <td>1.0</td>\n",
       "      <td>0.97</td>\n",
       "      <td>1.0</td>\n",
       "      <td>N</td>\n",
       "      <td>161</td>\n",
       "      <td>141</td>\n",
       "      <td>2</td>\n",
       "      <td>9.3</td>\n",
       "      <td>1.00</td>\n",
       "      <td>0.5</td>\n",
       "      <td>0.00</td>\n",
       "      <td>0.0</td>\n",
       "      <td>1.0</td>\n",
       "      <td>14.30</td>\n",
       "      <td>2.5</td>\n",
       "      <td>0.00</td>\n",
       "    </tr>\n",
       "    <tr>\n",
       "      <th>1</th>\n",
       "      <td>2</td>\n",
       "      <td>2023-01-01 00:55:08</td>\n",
       "      <td>2023-01-01 01:01:27</td>\n",
       "      <td>1.0</td>\n",
       "      <td>1.10</td>\n",
       "      <td>1.0</td>\n",
       "      <td>N</td>\n",
       "      <td>43</td>\n",
       "      <td>237</td>\n",
       "      <td>1</td>\n",
       "      <td>7.9</td>\n",
       "      <td>1.00</td>\n",
       "      <td>0.5</td>\n",
       "      <td>4.00</td>\n",
       "      <td>0.0</td>\n",
       "      <td>1.0</td>\n",
       "      <td>16.90</td>\n",
       "      <td>2.5</td>\n",
       "      <td>0.00</td>\n",
       "    </tr>\n",
       "    <tr>\n",
       "      <th>2</th>\n",
       "      <td>2</td>\n",
       "      <td>2023-01-01 00:25:04</td>\n",
       "      <td>2023-01-01 00:37:49</td>\n",
       "      <td>1.0</td>\n",
       "      <td>2.51</td>\n",
       "      <td>1.0</td>\n",
       "      <td>N</td>\n",
       "      <td>48</td>\n",
       "      <td>238</td>\n",
       "      <td>1</td>\n",
       "      <td>14.9</td>\n",
       "      <td>1.00</td>\n",
       "      <td>0.5</td>\n",
       "      <td>15.00</td>\n",
       "      <td>0.0</td>\n",
       "      <td>1.0</td>\n",
       "      <td>34.90</td>\n",
       "      <td>2.5</td>\n",
       "      <td>0.00</td>\n",
       "    </tr>\n",
       "    <tr>\n",
       "      <th>3</th>\n",
       "      <td>1</td>\n",
       "      <td>2023-01-01 00:03:48</td>\n",
       "      <td>2023-01-01 00:13:25</td>\n",
       "      <td>0.0</td>\n",
       "      <td>1.90</td>\n",
       "      <td>1.0</td>\n",
       "      <td>N</td>\n",
       "      <td>138</td>\n",
       "      <td>7</td>\n",
       "      <td>1</td>\n",
       "      <td>12.1</td>\n",
       "      <td>7.25</td>\n",
       "      <td>0.5</td>\n",
       "      <td>0.00</td>\n",
       "      <td>0.0</td>\n",
       "      <td>1.0</td>\n",
       "      <td>20.85</td>\n",
       "      <td>0.0</td>\n",
       "      <td>1.25</td>\n",
       "    </tr>\n",
       "    <tr>\n",
       "      <th>4</th>\n",
       "      <td>2</td>\n",
       "      <td>2023-01-01 00:10:29</td>\n",
       "      <td>2023-01-01 00:21:19</td>\n",
       "      <td>1.0</td>\n",
       "      <td>1.43</td>\n",
       "      <td>1.0</td>\n",
       "      <td>N</td>\n",
       "      <td>107</td>\n",
       "      <td>79</td>\n",
       "      <td>1</td>\n",
       "      <td>11.4</td>\n",
       "      <td>1.00</td>\n",
       "      <td>0.5</td>\n",
       "      <td>3.28</td>\n",
       "      <td>0.0</td>\n",
       "      <td>1.0</td>\n",
       "      <td>19.68</td>\n",
       "      <td>2.5</td>\n",
       "      <td>0.00</td>\n",
       "    </tr>\n",
       "  </tbody>\n",
       "</table>\n",
       "</div>"
      ],
      "text/plain": [
       "   VendorID tpep_pickup_datetime tpep_dropoff_datetime  passenger_count  \\\n",
       "0         2  2023-01-01 00:32:10   2023-01-01 00:40:36              1.0   \n",
       "1         2  2023-01-01 00:55:08   2023-01-01 01:01:27              1.0   \n",
       "2         2  2023-01-01 00:25:04   2023-01-01 00:37:49              1.0   \n",
       "3         1  2023-01-01 00:03:48   2023-01-01 00:13:25              0.0   \n",
       "4         2  2023-01-01 00:10:29   2023-01-01 00:21:19              1.0   \n",
       "\n",
       "   trip_distance  RatecodeID store_and_fwd_flag  PULocationID  DOLocationID  \\\n",
       "0           0.97         1.0                  N           161           141   \n",
       "1           1.10         1.0                  N            43           237   \n",
       "2           2.51         1.0                  N            48           238   \n",
       "3           1.90         1.0                  N           138             7   \n",
       "4           1.43         1.0                  N           107            79   \n",
       "\n",
       "   payment_type  fare_amount  extra  mta_tax  tip_amount  tolls_amount  \\\n",
       "0             2          9.3   1.00      0.5        0.00           0.0   \n",
       "1             1          7.9   1.00      0.5        4.00           0.0   \n",
       "2             1         14.9   1.00      0.5       15.00           0.0   \n",
       "3             1         12.1   7.25      0.5        0.00           0.0   \n",
       "4             1         11.4   1.00      0.5        3.28           0.0   \n",
       "\n",
       "   improvement_surcharge  total_amount  congestion_surcharge  airport_fee  \n",
       "0                    1.0         14.30                   2.5         0.00  \n",
       "1                    1.0         16.90                   2.5         0.00  \n",
       "2                    1.0         34.90                   2.5         0.00  \n",
       "3                    1.0         20.85                   0.0         1.25  \n",
       "4                    1.0         19.68                   2.5         0.00  "
      ]
     },
     "execution_count": 6,
     "metadata": {},
     "output_type": "execute_result"
    }
   ],
   "source": [
    "YT_jan_rides.head(5)"
   ]
  },
  {
   "cell_type": "markdown",
   "id": "fc4972a6",
   "metadata": {},
   "source": [
    "#### Number of columns"
   ]
  },
  {
   "cell_type": "code",
   "execution_count": 7,
   "id": "31e9bd09",
   "metadata": {},
   "outputs": [
    {
     "data": {
      "text/plain": [
       "Index(['VendorID', 'tpep_pickup_datetime', 'tpep_dropoff_datetime',\n",
       "       'passenger_count', 'trip_distance', 'RatecodeID', 'store_and_fwd_flag',\n",
       "       'PULocationID', 'DOLocationID', 'payment_type', 'fare_amount', 'extra',\n",
       "       'mta_tax', 'tip_amount', 'tolls_amount', 'improvement_surcharge',\n",
       "       'total_amount', 'congestion_surcharge', 'airport_fee'],\n",
       "      dtype='object')"
      ]
     },
     "execution_count": 7,
     "metadata": {},
     "output_type": "execute_result"
    }
   ],
   "source": [
    "YT_jan_rides.columns"
   ]
  },
  {
   "cell_type": "code",
   "execution_count": 8,
   "id": "d94a56a1",
   "metadata": {},
   "outputs": [
    {
     "data": {
      "text/plain": [
       "19"
      ]
     },
     "execution_count": 8,
     "metadata": {},
     "output_type": "execute_result"
    }
   ],
   "source": [
    "len(YT_jan_rides.columns)"
   ]
  },
  {
   "cell_type": "markdown",
   "id": "c924a6a9",
   "metadata": {},
   "source": [
    "## Q2. Computing duration"
   ]
  },
  {
   "cell_type": "code",
   "execution_count": 9,
   "id": "bc2031a0",
   "metadata": {},
   "outputs": [
    {
     "data": {
      "text/html": [
       "<div>\n",
       "<style scoped>\n",
       "    .dataframe tbody tr th:only-of-type {\n",
       "        vertical-align: middle;\n",
       "    }\n",
       "\n",
       "    .dataframe tbody tr th {\n",
       "        vertical-align: top;\n",
       "    }\n",
       "\n",
       "    .dataframe thead th {\n",
       "        text-align: right;\n",
       "    }\n",
       "</style>\n",
       "<table border=\"1\" class=\"dataframe\">\n",
       "  <thead>\n",
       "    <tr style=\"text-align: right;\">\n",
       "      <th></th>\n",
       "      <th>VendorID</th>\n",
       "      <th>passenger_count</th>\n",
       "      <th>trip_distance</th>\n",
       "      <th>RatecodeID</th>\n",
       "      <th>PULocationID</th>\n",
       "      <th>DOLocationID</th>\n",
       "      <th>payment_type</th>\n",
       "      <th>fare_amount</th>\n",
       "      <th>extra</th>\n",
       "      <th>mta_tax</th>\n",
       "      <th>tip_amount</th>\n",
       "      <th>tolls_amount</th>\n",
       "      <th>improvement_surcharge</th>\n",
       "      <th>total_amount</th>\n",
       "      <th>congestion_surcharge</th>\n",
       "      <th>airport_fee</th>\n",
       "    </tr>\n",
       "  </thead>\n",
       "  <tbody>\n",
       "    <tr>\n",
       "      <th>count</th>\n",
       "      <td>3.066766e+06</td>\n",
       "      <td>2.995023e+06</td>\n",
       "      <td>3.066766e+06</td>\n",
       "      <td>2.995023e+06</td>\n",
       "      <td>3.066766e+06</td>\n",
       "      <td>3.066766e+06</td>\n",
       "      <td>3.066766e+06</td>\n",
       "      <td>3.066766e+06</td>\n",
       "      <td>3.066766e+06</td>\n",
       "      <td>3.066766e+06</td>\n",
       "      <td>3.066766e+06</td>\n",
       "      <td>3.066766e+06</td>\n",
       "      <td>3.066766e+06</td>\n",
       "      <td>3.066766e+06</td>\n",
       "      <td>2.995023e+06</td>\n",
       "      <td>2.995023e+06</td>\n",
       "    </tr>\n",
       "    <tr>\n",
       "      <th>mean</th>\n",
       "      <td>1.730215e+00</td>\n",
       "      <td>1.362532e+00</td>\n",
       "      <td>3.847342e+00</td>\n",
       "      <td>1.497440e+00</td>\n",
       "      <td>1.663980e+02</td>\n",
       "      <td>1.643926e+02</td>\n",
       "      <td>1.194483e+00</td>\n",
       "      <td>1.836707e+01</td>\n",
       "      <td>1.537842e+00</td>\n",
       "      <td>4.882900e-01</td>\n",
       "      <td>3.367941e+00</td>\n",
       "      <td>5.184907e-01</td>\n",
       "      <td>9.820847e-01</td>\n",
       "      <td>2.702038e+01</td>\n",
       "      <td>2.274231e+00</td>\n",
       "      <td>1.074086e-01</td>\n",
       "    </tr>\n",
       "    <tr>\n",
       "      <th>std</th>\n",
       "      <td>4.438480e-01</td>\n",
       "      <td>8.961200e-01</td>\n",
       "      <td>2.495838e+02</td>\n",
       "      <td>6.474767e+00</td>\n",
       "      <td>6.424413e+01</td>\n",
       "      <td>6.994368e+01</td>\n",
       "      <td>5.294762e-01</td>\n",
       "      <td>1.780782e+01</td>\n",
       "      <td>1.789592e+00</td>\n",
       "      <td>1.034641e-01</td>\n",
       "      <td>3.826759e+00</td>\n",
       "      <td>2.017579e+00</td>\n",
       "      <td>1.833529e-01</td>\n",
       "      <td>2.216359e+01</td>\n",
       "      <td>7.718454e-01</td>\n",
       "      <td>3.556511e-01</td>\n",
       "    </tr>\n",
       "    <tr>\n",
       "      <th>min</th>\n",
       "      <td>1.000000e+00</td>\n",
       "      <td>0.000000e+00</td>\n",
       "      <td>0.000000e+00</td>\n",
       "      <td>1.000000e+00</td>\n",
       "      <td>1.000000e+00</td>\n",
       "      <td>1.000000e+00</td>\n",
       "      <td>0.000000e+00</td>\n",
       "      <td>-9.000000e+02</td>\n",
       "      <td>-7.500000e+00</td>\n",
       "      <td>-5.000000e-01</td>\n",
       "      <td>-9.622000e+01</td>\n",
       "      <td>-6.500000e+01</td>\n",
       "      <td>-1.000000e+00</td>\n",
       "      <td>-7.510000e+02</td>\n",
       "      <td>-2.500000e+00</td>\n",
       "      <td>-1.250000e+00</td>\n",
       "    </tr>\n",
       "    <tr>\n",
       "      <th>25%</th>\n",
       "      <td>1.000000e+00</td>\n",
       "      <td>1.000000e+00</td>\n",
       "      <td>1.060000e+00</td>\n",
       "      <td>1.000000e+00</td>\n",
       "      <td>1.320000e+02</td>\n",
       "      <td>1.140000e+02</td>\n",
       "      <td>1.000000e+00</td>\n",
       "      <td>8.600000e+00</td>\n",
       "      <td>0.000000e+00</td>\n",
       "      <td>5.000000e-01</td>\n",
       "      <td>1.000000e+00</td>\n",
       "      <td>0.000000e+00</td>\n",
       "      <td>1.000000e+00</td>\n",
       "      <td>1.540000e+01</td>\n",
       "      <td>2.500000e+00</td>\n",
       "      <td>0.000000e+00</td>\n",
       "    </tr>\n",
       "    <tr>\n",
       "      <th>50%</th>\n",
       "      <td>2.000000e+00</td>\n",
       "      <td>1.000000e+00</td>\n",
       "      <td>1.800000e+00</td>\n",
       "      <td>1.000000e+00</td>\n",
       "      <td>1.620000e+02</td>\n",
       "      <td>1.620000e+02</td>\n",
       "      <td>1.000000e+00</td>\n",
       "      <td>1.280000e+01</td>\n",
       "      <td>1.000000e+00</td>\n",
       "      <td>5.000000e-01</td>\n",
       "      <td>2.720000e+00</td>\n",
       "      <td>0.000000e+00</td>\n",
       "      <td>1.000000e+00</td>\n",
       "      <td>2.016000e+01</td>\n",
       "      <td>2.500000e+00</td>\n",
       "      <td>0.000000e+00</td>\n",
       "    </tr>\n",
       "    <tr>\n",
       "      <th>75%</th>\n",
       "      <td>2.000000e+00</td>\n",
       "      <td>1.000000e+00</td>\n",
       "      <td>3.330000e+00</td>\n",
       "      <td>1.000000e+00</td>\n",
       "      <td>2.340000e+02</td>\n",
       "      <td>2.340000e+02</td>\n",
       "      <td>1.000000e+00</td>\n",
       "      <td>2.050000e+01</td>\n",
       "      <td>2.500000e+00</td>\n",
       "      <td>5.000000e-01</td>\n",
       "      <td>4.200000e+00</td>\n",
       "      <td>0.000000e+00</td>\n",
       "      <td>1.000000e+00</td>\n",
       "      <td>2.870000e+01</td>\n",
       "      <td>2.500000e+00</td>\n",
       "      <td>0.000000e+00</td>\n",
       "    </tr>\n",
       "    <tr>\n",
       "      <th>max</th>\n",
       "      <td>2.000000e+00</td>\n",
       "      <td>9.000000e+00</td>\n",
       "      <td>2.589281e+05</td>\n",
       "      <td>9.900000e+01</td>\n",
       "      <td>2.650000e+02</td>\n",
       "      <td>2.650000e+02</td>\n",
       "      <td>4.000000e+00</td>\n",
       "      <td>1.160100e+03</td>\n",
       "      <td>1.250000e+01</td>\n",
       "      <td>5.316000e+01</td>\n",
       "      <td>3.808000e+02</td>\n",
       "      <td>1.969900e+02</td>\n",
       "      <td>1.000000e+00</td>\n",
       "      <td>1.169400e+03</td>\n",
       "      <td>2.500000e+00</td>\n",
       "      <td>1.250000e+00</td>\n",
       "    </tr>\n",
       "  </tbody>\n",
       "</table>\n",
       "</div>"
      ],
      "text/plain": [
       "           VendorID  passenger_count  trip_distance    RatecodeID  \\\n",
       "count  3.066766e+06     2.995023e+06   3.066766e+06  2.995023e+06   \n",
       "mean   1.730215e+00     1.362532e+00   3.847342e+00  1.497440e+00   \n",
       "std    4.438480e-01     8.961200e-01   2.495838e+02  6.474767e+00   \n",
       "min    1.000000e+00     0.000000e+00   0.000000e+00  1.000000e+00   \n",
       "25%    1.000000e+00     1.000000e+00   1.060000e+00  1.000000e+00   \n",
       "50%    2.000000e+00     1.000000e+00   1.800000e+00  1.000000e+00   \n",
       "75%    2.000000e+00     1.000000e+00   3.330000e+00  1.000000e+00   \n",
       "max    2.000000e+00     9.000000e+00   2.589281e+05  9.900000e+01   \n",
       "\n",
       "       PULocationID  DOLocationID  payment_type   fare_amount         extra  \\\n",
       "count  3.066766e+06  3.066766e+06  3.066766e+06  3.066766e+06  3.066766e+06   \n",
       "mean   1.663980e+02  1.643926e+02  1.194483e+00  1.836707e+01  1.537842e+00   \n",
       "std    6.424413e+01  6.994368e+01  5.294762e-01  1.780782e+01  1.789592e+00   \n",
       "min    1.000000e+00  1.000000e+00  0.000000e+00 -9.000000e+02 -7.500000e+00   \n",
       "25%    1.320000e+02  1.140000e+02  1.000000e+00  8.600000e+00  0.000000e+00   \n",
       "50%    1.620000e+02  1.620000e+02  1.000000e+00  1.280000e+01  1.000000e+00   \n",
       "75%    2.340000e+02  2.340000e+02  1.000000e+00  2.050000e+01  2.500000e+00   \n",
       "max    2.650000e+02  2.650000e+02  4.000000e+00  1.160100e+03  1.250000e+01   \n",
       "\n",
       "            mta_tax    tip_amount  tolls_amount  improvement_surcharge  \\\n",
       "count  3.066766e+06  3.066766e+06  3.066766e+06           3.066766e+06   \n",
       "mean   4.882900e-01  3.367941e+00  5.184907e-01           9.820847e-01   \n",
       "std    1.034641e-01  3.826759e+00  2.017579e+00           1.833529e-01   \n",
       "min   -5.000000e-01 -9.622000e+01 -6.500000e+01          -1.000000e+00   \n",
       "25%    5.000000e-01  1.000000e+00  0.000000e+00           1.000000e+00   \n",
       "50%    5.000000e-01  2.720000e+00  0.000000e+00           1.000000e+00   \n",
       "75%    5.000000e-01  4.200000e+00  0.000000e+00           1.000000e+00   \n",
       "max    5.316000e+01  3.808000e+02  1.969900e+02           1.000000e+00   \n",
       "\n",
       "       total_amount  congestion_surcharge   airport_fee  \n",
       "count  3.066766e+06          2.995023e+06  2.995023e+06  \n",
       "mean   2.702038e+01          2.274231e+00  1.074086e-01  \n",
       "std    2.216359e+01          7.718454e-01  3.556511e-01  \n",
       "min   -7.510000e+02         -2.500000e+00 -1.250000e+00  \n",
       "25%    1.540000e+01          2.500000e+00  0.000000e+00  \n",
       "50%    2.016000e+01          2.500000e+00  0.000000e+00  \n",
       "75%    2.870000e+01          2.500000e+00  0.000000e+00  \n",
       "max    1.169400e+03          2.500000e+00  1.250000e+00  "
      ]
     },
     "execution_count": 9,
     "metadata": {},
     "output_type": "execute_result"
    }
   ],
   "source": [
    "YT_jan_rides.describe()"
   ]
  },
  {
   "cell_type": "code",
   "execution_count": 10,
   "id": "ee4fd650",
   "metadata": {},
   "outputs": [],
   "source": [
    "YT_jan_rides['duration']= YT_jan_rides['tpep_dropoff_datetime'] - YT_jan_rides['tpep_pickup_datetime'] "
   ]
  },
  {
   "cell_type": "code",
   "execution_count": 11,
   "id": "f2127b11",
   "metadata": {},
   "outputs": [
    {
     "data": {
      "text/html": [
       "<div>\n",
       "<style scoped>\n",
       "    .dataframe tbody tr th:only-of-type {\n",
       "        vertical-align: middle;\n",
       "    }\n",
       "\n",
       "    .dataframe tbody tr th {\n",
       "        vertical-align: top;\n",
       "    }\n",
       "\n",
       "    .dataframe thead th {\n",
       "        text-align: right;\n",
       "    }\n",
       "</style>\n",
       "<table border=\"1\" class=\"dataframe\">\n",
       "  <thead>\n",
       "    <tr style=\"text-align: right;\">\n",
       "      <th></th>\n",
       "      <th>VendorID</th>\n",
       "      <th>passenger_count</th>\n",
       "      <th>trip_distance</th>\n",
       "      <th>RatecodeID</th>\n",
       "      <th>PULocationID</th>\n",
       "      <th>DOLocationID</th>\n",
       "      <th>payment_type</th>\n",
       "      <th>fare_amount</th>\n",
       "      <th>extra</th>\n",
       "      <th>mta_tax</th>\n",
       "      <th>tip_amount</th>\n",
       "      <th>tolls_amount</th>\n",
       "      <th>improvement_surcharge</th>\n",
       "      <th>total_amount</th>\n",
       "      <th>congestion_surcharge</th>\n",
       "      <th>airport_fee</th>\n",
       "      <th>duration</th>\n",
       "    </tr>\n",
       "  </thead>\n",
       "  <tbody>\n",
       "    <tr>\n",
       "      <th>count</th>\n",
       "      <td>3.066766e+06</td>\n",
       "      <td>2.995023e+06</td>\n",
       "      <td>3.066766e+06</td>\n",
       "      <td>2.995023e+06</td>\n",
       "      <td>3.066766e+06</td>\n",
       "      <td>3.066766e+06</td>\n",
       "      <td>3.066766e+06</td>\n",
       "      <td>3.066766e+06</td>\n",
       "      <td>3.066766e+06</td>\n",
       "      <td>3.066766e+06</td>\n",
       "      <td>3.066766e+06</td>\n",
       "      <td>3.066766e+06</td>\n",
       "      <td>3.066766e+06</td>\n",
       "      <td>3.066766e+06</td>\n",
       "      <td>2.995023e+06</td>\n",
       "      <td>2.995023e+06</td>\n",
       "      <td>3066766</td>\n",
       "    </tr>\n",
       "    <tr>\n",
       "      <th>mean</th>\n",
       "      <td>1.730215e+00</td>\n",
       "      <td>1.362532e+00</td>\n",
       "      <td>3.847342e+00</td>\n",
       "      <td>1.497440e+00</td>\n",
       "      <td>1.663980e+02</td>\n",
       "      <td>1.643926e+02</td>\n",
       "      <td>1.194483e+00</td>\n",
       "      <td>1.836707e+01</td>\n",
       "      <td>1.537842e+00</td>\n",
       "      <td>4.882900e-01</td>\n",
       "      <td>3.367941e+00</td>\n",
       "      <td>5.184907e-01</td>\n",
       "      <td>9.820847e-01</td>\n",
       "      <td>2.702038e+01</td>\n",
       "      <td>2.274231e+00</td>\n",
       "      <td>1.074086e-01</td>\n",
       "      <td>0 days 00:15:40.139710039</td>\n",
       "    </tr>\n",
       "    <tr>\n",
       "      <th>std</th>\n",
       "      <td>4.438480e-01</td>\n",
       "      <td>8.961200e-01</td>\n",
       "      <td>2.495838e+02</td>\n",
       "      <td>6.474767e+00</td>\n",
       "      <td>6.424413e+01</td>\n",
       "      <td>6.994368e+01</td>\n",
       "      <td>5.294762e-01</td>\n",
       "      <td>1.780782e+01</td>\n",
       "      <td>1.789592e+00</td>\n",
       "      <td>1.034641e-01</td>\n",
       "      <td>3.826759e+00</td>\n",
       "      <td>2.017579e+00</td>\n",
       "      <td>1.833529e-01</td>\n",
       "      <td>2.216359e+01</td>\n",
       "      <td>7.718454e-01</td>\n",
       "      <td>3.556511e-01</td>\n",
       "      <td>0 days 00:42:35.661074517</td>\n",
       "    </tr>\n",
       "    <tr>\n",
       "      <th>min</th>\n",
       "      <td>1.000000e+00</td>\n",
       "      <td>0.000000e+00</td>\n",
       "      <td>0.000000e+00</td>\n",
       "      <td>1.000000e+00</td>\n",
       "      <td>1.000000e+00</td>\n",
       "      <td>1.000000e+00</td>\n",
       "      <td>0.000000e+00</td>\n",
       "      <td>-9.000000e+02</td>\n",
       "      <td>-7.500000e+00</td>\n",
       "      <td>-5.000000e-01</td>\n",
       "      <td>-9.622000e+01</td>\n",
       "      <td>-6.500000e+01</td>\n",
       "      <td>-1.000000e+00</td>\n",
       "      <td>-7.510000e+02</td>\n",
       "      <td>-2.500000e+00</td>\n",
       "      <td>-1.250000e+00</td>\n",
       "      <td>-1 days +23:30:48</td>\n",
       "    </tr>\n",
       "    <tr>\n",
       "      <th>25%</th>\n",
       "      <td>1.000000e+00</td>\n",
       "      <td>1.000000e+00</td>\n",
       "      <td>1.060000e+00</td>\n",
       "      <td>1.000000e+00</td>\n",
       "      <td>1.320000e+02</td>\n",
       "      <td>1.140000e+02</td>\n",
       "      <td>1.000000e+00</td>\n",
       "      <td>8.600000e+00</td>\n",
       "      <td>0.000000e+00</td>\n",
       "      <td>5.000000e-01</td>\n",
       "      <td>1.000000e+00</td>\n",
       "      <td>0.000000e+00</td>\n",
       "      <td>1.000000e+00</td>\n",
       "      <td>1.540000e+01</td>\n",
       "      <td>2.500000e+00</td>\n",
       "      <td>0.000000e+00</td>\n",
       "      <td>0 days 00:07:07</td>\n",
       "    </tr>\n",
       "    <tr>\n",
       "      <th>50%</th>\n",
       "      <td>2.000000e+00</td>\n",
       "      <td>1.000000e+00</td>\n",
       "      <td>1.800000e+00</td>\n",
       "      <td>1.000000e+00</td>\n",
       "      <td>1.620000e+02</td>\n",
       "      <td>1.620000e+02</td>\n",
       "      <td>1.000000e+00</td>\n",
       "      <td>1.280000e+01</td>\n",
       "      <td>1.000000e+00</td>\n",
       "      <td>5.000000e-01</td>\n",
       "      <td>2.720000e+00</td>\n",
       "      <td>0.000000e+00</td>\n",
       "      <td>1.000000e+00</td>\n",
       "      <td>2.016000e+01</td>\n",
       "      <td>2.500000e+00</td>\n",
       "      <td>0.000000e+00</td>\n",
       "      <td>0 days 00:11:31</td>\n",
       "    </tr>\n",
       "    <tr>\n",
       "      <th>75%</th>\n",
       "      <td>2.000000e+00</td>\n",
       "      <td>1.000000e+00</td>\n",
       "      <td>3.330000e+00</td>\n",
       "      <td>1.000000e+00</td>\n",
       "      <td>2.340000e+02</td>\n",
       "      <td>2.340000e+02</td>\n",
       "      <td>1.000000e+00</td>\n",
       "      <td>2.050000e+01</td>\n",
       "      <td>2.500000e+00</td>\n",
       "      <td>5.000000e-01</td>\n",
       "      <td>4.200000e+00</td>\n",
       "      <td>0.000000e+00</td>\n",
       "      <td>1.000000e+00</td>\n",
       "      <td>2.870000e+01</td>\n",
       "      <td>2.500000e+00</td>\n",
       "      <td>0.000000e+00</td>\n",
       "      <td>0 days 00:18:18</td>\n",
       "    </tr>\n",
       "    <tr>\n",
       "      <th>max</th>\n",
       "      <td>2.000000e+00</td>\n",
       "      <td>9.000000e+00</td>\n",
       "      <td>2.589281e+05</td>\n",
       "      <td>9.900000e+01</td>\n",
       "      <td>2.650000e+02</td>\n",
       "      <td>2.650000e+02</td>\n",
       "      <td>4.000000e+00</td>\n",
       "      <td>1.160100e+03</td>\n",
       "      <td>1.250000e+01</td>\n",
       "      <td>5.316000e+01</td>\n",
       "      <td>3.808000e+02</td>\n",
       "      <td>1.969900e+02</td>\n",
       "      <td>1.000000e+00</td>\n",
       "      <td>1.169400e+03</td>\n",
       "      <td>2.500000e+00</td>\n",
       "      <td>1.250000e+00</td>\n",
       "      <td>6 days 23:09:11</td>\n",
       "    </tr>\n",
       "  </tbody>\n",
       "</table>\n",
       "</div>"
      ],
      "text/plain": [
       "           VendorID  passenger_count  trip_distance    RatecodeID  \\\n",
       "count  3.066766e+06     2.995023e+06   3.066766e+06  2.995023e+06   \n",
       "mean   1.730215e+00     1.362532e+00   3.847342e+00  1.497440e+00   \n",
       "std    4.438480e-01     8.961200e-01   2.495838e+02  6.474767e+00   \n",
       "min    1.000000e+00     0.000000e+00   0.000000e+00  1.000000e+00   \n",
       "25%    1.000000e+00     1.000000e+00   1.060000e+00  1.000000e+00   \n",
       "50%    2.000000e+00     1.000000e+00   1.800000e+00  1.000000e+00   \n",
       "75%    2.000000e+00     1.000000e+00   3.330000e+00  1.000000e+00   \n",
       "max    2.000000e+00     9.000000e+00   2.589281e+05  9.900000e+01   \n",
       "\n",
       "       PULocationID  DOLocationID  payment_type   fare_amount         extra  \\\n",
       "count  3.066766e+06  3.066766e+06  3.066766e+06  3.066766e+06  3.066766e+06   \n",
       "mean   1.663980e+02  1.643926e+02  1.194483e+00  1.836707e+01  1.537842e+00   \n",
       "std    6.424413e+01  6.994368e+01  5.294762e-01  1.780782e+01  1.789592e+00   \n",
       "min    1.000000e+00  1.000000e+00  0.000000e+00 -9.000000e+02 -7.500000e+00   \n",
       "25%    1.320000e+02  1.140000e+02  1.000000e+00  8.600000e+00  0.000000e+00   \n",
       "50%    1.620000e+02  1.620000e+02  1.000000e+00  1.280000e+01  1.000000e+00   \n",
       "75%    2.340000e+02  2.340000e+02  1.000000e+00  2.050000e+01  2.500000e+00   \n",
       "max    2.650000e+02  2.650000e+02  4.000000e+00  1.160100e+03  1.250000e+01   \n",
       "\n",
       "            mta_tax    tip_amount  tolls_amount  improvement_surcharge  \\\n",
       "count  3.066766e+06  3.066766e+06  3.066766e+06           3.066766e+06   \n",
       "mean   4.882900e-01  3.367941e+00  5.184907e-01           9.820847e-01   \n",
       "std    1.034641e-01  3.826759e+00  2.017579e+00           1.833529e-01   \n",
       "min   -5.000000e-01 -9.622000e+01 -6.500000e+01          -1.000000e+00   \n",
       "25%    5.000000e-01  1.000000e+00  0.000000e+00           1.000000e+00   \n",
       "50%    5.000000e-01  2.720000e+00  0.000000e+00           1.000000e+00   \n",
       "75%    5.000000e-01  4.200000e+00  0.000000e+00           1.000000e+00   \n",
       "max    5.316000e+01  3.808000e+02  1.969900e+02           1.000000e+00   \n",
       "\n",
       "       total_amount  congestion_surcharge   airport_fee  \\\n",
       "count  3.066766e+06          2.995023e+06  2.995023e+06   \n",
       "mean   2.702038e+01          2.274231e+00  1.074086e-01   \n",
       "std    2.216359e+01          7.718454e-01  3.556511e-01   \n",
       "min   -7.510000e+02         -2.500000e+00 -1.250000e+00   \n",
       "25%    1.540000e+01          2.500000e+00  0.000000e+00   \n",
       "50%    2.016000e+01          2.500000e+00  0.000000e+00   \n",
       "75%    2.870000e+01          2.500000e+00  0.000000e+00   \n",
       "max    1.169400e+03          2.500000e+00  1.250000e+00   \n",
       "\n",
       "                        duration  \n",
       "count                    3066766  \n",
       "mean   0 days 00:15:40.139710039  \n",
       "std    0 days 00:42:35.661074517  \n",
       "min            -1 days +23:30:48  \n",
       "25%              0 days 00:07:07  \n",
       "50%              0 days 00:11:31  \n",
       "75%              0 days 00:18:18  \n",
       "max              6 days 23:09:11  "
      ]
     },
     "execution_count": 11,
     "metadata": {},
     "output_type": "execute_result"
    }
   ],
   "source": [
    "YT_jan_rides.describe()"
   ]
  },
  {
   "cell_type": "code",
   "execution_count": 12,
   "id": "4aa62dcd",
   "metadata": {},
   "outputs": [],
   "source": [
    "duration_minutes = YT_jan_rides['duration'].dt.total_seconds().div(60).astype(int)"
   ]
  },
  {
   "cell_type": "code",
   "execution_count": 13,
   "id": "0a8377d7",
   "metadata": {},
   "outputs": [
    {
     "data": {
      "text/plain": [
       "pandas.core.series.Series"
      ]
     },
     "execution_count": 13,
     "metadata": {},
     "output_type": "execute_result"
    }
   ],
   "source": [
    "type(duration_minutes)"
   ]
  },
  {
   "cell_type": "code",
   "execution_count": 14,
   "id": "a54ac41f",
   "metadata": {},
   "outputs": [
    {
     "data": {
      "text/plain": [
       "count    3.066766e+06\n",
       "mean     1.518255e+01\n",
       "std      4.259450e+01\n",
       "min     -2.900000e+01\n",
       "25%      7.000000e+00\n",
       "50%      1.100000e+01\n",
       "75%      1.800000e+01\n",
       "max      1.002900e+04\n",
       "Name: duration, dtype: float64"
      ]
     },
     "execution_count": 14,
     "metadata": {},
     "output_type": "execute_result"
    }
   ],
   "source": [
    "duration_minutes.describe()"
   ]
  },
  {
   "cell_type": "markdown",
   "id": "7a64b076",
   "metadata": {},
   "source": [
    "std      4.259450e+01"
   ]
  },
  {
   "cell_type": "markdown",
   "id": "da5b230e",
   "metadata": {},
   "source": [
    "## Q3. Dropping outliers"
   ]
  },
  {
   "cell_type": "code",
   "execution_count": 15,
   "id": "60c24ea6",
   "metadata": {},
   "outputs": [],
   "source": [
    "duration_minutes = YT_jan_rides['duration'].dt.total_seconds().div(60)"
   ]
  },
  {
   "cell_type": "code",
   "execution_count": 16,
   "id": "009450fb",
   "metadata": {},
   "outputs": [
    {
     "data": {
      "text/plain": [
       "0     8.433333\n",
       "1     6.316667\n",
       "2    12.750000\n",
       "3     9.616667\n",
       "4    10.833333\n",
       "Name: duration, dtype: float64"
      ]
     },
     "execution_count": 16,
     "metadata": {},
     "output_type": "execute_result"
    }
   ],
   "source": [
    "duration_minutes.head()"
   ]
  },
  {
   "cell_type": "code",
   "execution_count": 17,
   "id": "2075ebd5",
   "metadata": {},
   "outputs": [
    {
     "data": {
      "text/plain": [
       "count    3.066766e+06\n",
       "mean     1.566900e+01\n",
       "std      4.259435e+01\n",
       "min     -2.920000e+01\n",
       "25%      7.116667e+00\n",
       "50%      1.151667e+01\n",
       "75%      1.830000e+01\n",
       "max      1.002918e+04\n",
       "Name: duration, dtype: float64"
      ]
     },
     "execution_count": 17,
     "metadata": {},
     "output_type": "execute_result"
    }
   ],
   "source": [
    "duration_minutes.describe()"
   ]
  },
  {
   "cell_type": "code",
   "execution_count": 20,
   "id": "d62775ed",
   "metadata": {},
   "outputs": [],
   "source": [
    "YT_jan_rides.duration = YT_jan_rides.duration.apply(lambda td: td.total_seconds() / 60)\n",
    "\n",
    "df = YT_jan_rides[(YT_jan_rides.duration >= 1) & (YT_jan_rides.duration <= 60)]\n"
   ]
  },
  {
   "cell_type": "code",
   "execution_count": 21,
   "id": "00384c1f",
   "metadata": {},
   "outputs": [
    {
     "data": {
      "text/plain": [
       "(3009173, 20)"
      ]
     },
     "execution_count": 21,
     "metadata": {},
     "output_type": "execute_result"
    }
   ],
   "source": [
    "df.shape"
   ]
  },
  {
   "cell_type": "code",
   "execution_count": 22,
   "id": "9ead6659",
   "metadata": {},
   "outputs": [
    {
     "data": {
      "text/plain": [
       "98.1220282212598"
      ]
     },
     "execution_count": 22,
     "metadata": {},
     "output_type": "execute_result"
    }
   ],
   "source": [
    "percentage = (df.shape[0]/YT_jan_rides.shape[0])*100\n",
    "percentage"
   ]
  },
  {
   "cell_type": "markdown",
   "id": "6c5e5326",
   "metadata": {},
   "source": [
    "## Q4. One-hot encoding\n"
   ]
  },
  {
   "cell_type": "code",
   "execution_count": 2,
   "id": "7863c363",
   "metadata": {},
   "outputs": [],
   "source": [
    "from sklearn.feature_extraction import DictVectorizer\n",
    "from sklearn.linear_model import LinearRegression\n",
    "from sklearn.linear_model import Lasso\n",
    "from sklearn.linear_model import Ridge\n",
    "\n",
    "from sklearn.metrics import mean_squared_error"
   ]
  },
  {
   "cell_type": "markdown",
   "id": "e25eac74",
   "metadata": {},
   "source": [
    "#### Turn the dataframe into a list of dictionaries (remember to re-cast the ids to strings - otherwise it will label encode them)"
   ]
  },
  {
   "cell_type": "code",
   "execution_count": 23,
   "id": "f1b9d7e2",
   "metadata": {},
   "outputs": [
    {
     "name": "stderr",
     "output_type": "stream",
     "text": [
      "/tmp/ipykernel_3740/833933397.py:4: SettingWithCopyWarning: \n",
      "A value is trying to be set on a copy of a slice from a DataFrame.\n",
      "Try using .loc[row_indexer,col_indexer] = value instead\n",
      "\n",
      "See the caveats in the documentation: https://pandas.pydata.org/pandas-docs/stable/user_guide/indexing.html#returning-a-view-versus-a-copy\n",
      "  df[categorical] = df[categorical].astype(str)\n"
     ]
    }
   ],
   "source": [
    "categorical = ['PULocationID', 'DOLocationID']\n",
    "numerical = ['trip_distance']\n",
    "\n",
    "df[categorical] = df[categorical].astype(str)"
   ]
  },
  {
   "cell_type": "code",
   "execution_count": 25,
   "id": "beb7a24e",
   "metadata": {},
   "outputs": [],
   "source": [
    "train_dicts = df[categorical + numerical].to_dict(orient='records')\n"
   ]
  },
  {
   "cell_type": "code",
   "execution_count": 26,
   "id": "12abb0f6",
   "metadata": {},
   "outputs": [
    {
     "data": {
      "text/plain": [
       "list"
      ]
     },
     "execution_count": 26,
     "metadata": {},
     "output_type": "execute_result"
    }
   ],
   "source": [
    "type(train_dicts)"
   ]
  },
  {
   "cell_type": "markdown",
   "id": "fa96aa9d",
   "metadata": {},
   "source": [
    "#### Fit a dictionary vectorizer\n"
   ]
  },
  {
   "cell_type": "code",
   "execution_count": 29,
   "id": "188cdcfc",
   "metadata": {},
   "outputs": [],
   "source": [
    "dv = DictVectorizer()\n"
   ]
  },
  {
   "cell_type": "markdown",
   "id": "a84db4ab",
   "metadata": {},
   "source": [
    "#### Get a feature matrix from it\n"
   ]
  },
  {
   "cell_type": "code",
   "execution_count": 30,
   "id": "c06d216e",
   "metadata": {},
   "outputs": [],
   "source": [
    "X_train = dv.fit_transform(train_dicts)"
   ]
  },
  {
   "cell_type": "code",
   "execution_count": 31,
   "id": "ad6455ac",
   "metadata": {},
   "outputs": [
    {
     "data": {
      "text/plain": [
       "scipy.sparse.csr.csr_matrix"
      ]
     },
     "execution_count": 31,
     "metadata": {},
     "output_type": "execute_result"
    }
   ],
   "source": [
    "type(X_train)"
   ]
  },
  {
   "cell_type": "code",
   "execution_count": 32,
   "id": "dba3638c",
   "metadata": {},
   "outputs": [],
   "source": [
    "target = 'duration'\n",
    "y_train = df[target].values"
   ]
  },
  {
   "cell_type": "code",
   "execution_count": 33,
   "id": "e52294f3",
   "metadata": {},
   "outputs": [
    {
     "data": {
      "text/plain": [
       "(3009173, 516)"
      ]
     },
     "execution_count": 33,
     "metadata": {},
     "output_type": "execute_result"
    }
   ],
   "source": [
    "X_train.shape"
   ]
  },
  {
   "cell_type": "code",
   "execution_count": 34,
   "id": "cd3a86ff",
   "metadata": {},
   "outputs": [
    {
     "data": {
      "text/plain": [
       "516"
      ]
     },
     "execution_count": 34,
     "metadata": {},
     "output_type": "execute_result"
    }
   ],
   "source": [
    "X_train.shape[1]"
   ]
  },
  {
   "cell_type": "markdown",
   "id": "e579bc1b",
   "metadata": {},
   "source": [
    "## Q5. Training a model"
   ]
  },
  {
   "cell_type": "code",
   "execution_count": 37,
   "id": "820071cb",
   "metadata": {},
   "outputs": [
    {
     "data": {
      "text/plain": [
       "7.649143388169879"
      ]
     },
     "execution_count": 37,
     "metadata": {},
     "output_type": "execute_result"
    }
   ],
   "source": [
    "lr = LinearRegression()\n",
    "lr.fit(X_train, y_train)\n",
    "\n",
    "y_pred = lr.predict(X_train)\n",
    "\n",
    "mean_squared_error(y_train, y_pred, squared=False)"
   ]
  },
  {
   "cell_type": "markdown",
   "id": "93489c1f",
   "metadata": {},
   "source": [
    "## Q6. Evaluating the model"
   ]
  },
  {
   "cell_type": "code",
   "execution_count": 1,
   "id": "e1ede6f6",
   "metadata": {},
   "outputs": [],
   "source": [
    "from sklearn.feature_extraction import DictVectorizer\n",
    "from sklearn.linear_model import LinearRegression\n",
    "from sklearn.linear_model import Lasso\n",
    "from sklearn.linear_model import Ridge\n",
    "\n",
    "from sklearn.metrics import mean_squared_error\n",
    "\n",
    "import pandas as pd\n",
    "import pyarrow"
   ]
  },
  {
   "cell_type": "code",
   "execution_count": 8,
   "id": "89daba86",
   "metadata": {},
   "outputs": [],
   "source": [
    "def read_dataframe(filename):\n",
    "    if filename.endswith('.csv'):\n",
    "        df = pd.read_csv(filename)\n",
    "\n",
    "        df.lpep_dropoff_datetime = pd.to_datetime(df.lpep_dropoff_datetime)\n",
    "        df.lpep_pickup_datetime = pd.to_datetime(df.lpep_pickup_datetime)\n",
    "    elif filename.endswith('.parquet'):\n",
    "        df = pd.read_parquet(filename)\n",
    "\n",
    "    df['duration'] = df.tpep_dropoff_datetime - df.tpep_pickup_datetime\n",
    "    df.duration = df.duration.apply(lambda td: td.total_seconds() / 60)\n",
    "\n",
    "    df = df[(df.duration >= 1) & (df.duration <= 60)]\n",
    "\n",
    "    categorical = ['PULocationID', 'DOLocationID']\n",
    "    df[categorical] = df[categorical].astype(str)\n",
    "    \n",
    "    return df"
   ]
  },
  {
   "cell_type": "code",
   "execution_count": 9,
   "id": "99ad0f1a",
   "metadata": {},
   "outputs": [],
   "source": [
    "df_train = read_dataframe('https://d37ci6vzurychx.cloudfront.net/trip-data/yellow_tripdata_2023-01.parquet')\n",
    "df_val = read_dataframe('https://d37ci6vzurychx.cloudfront.net/trip-data/yellow_tripdata_2023-02.parquet')"
   ]
  },
  {
   "cell_type": "code",
   "execution_count": 10,
   "id": "846a2b5c",
   "metadata": {},
   "outputs": [
    {
     "data": {
      "text/plain": [
       "(3009173, 2855951)"
      ]
     },
     "execution_count": 10,
     "metadata": {},
     "output_type": "execute_result"
    }
   ],
   "source": [
    "len(df_train), len(df_val)"
   ]
  },
  {
   "cell_type": "code",
   "execution_count": 13,
   "id": "a8986643",
   "metadata": {},
   "outputs": [],
   "source": [
    "df_train['PULocationID'] = df_train['PULocationID'].astype(str)\n"
   ]
  },
  {
   "cell_type": "code",
   "execution_count": 14,
   "id": "649b9555",
   "metadata": {},
   "outputs": [],
   "source": [
    "df_train['DOLocationID'] = df_train['DOLocationID'].astype(str)\n"
   ]
  },
  {
   "cell_type": "code",
   "execution_count": 11,
   "id": "53170f44",
   "metadata": {},
   "outputs": [],
   "source": [
    "df_train['PU_DO'] = df_train['PULocationID'].str.cat(df_train['DOLocationID'], sep='_')\n"
   ]
  },
  {
   "cell_type": "code",
   "execution_count": 12,
   "id": "62108579",
   "metadata": {},
   "outputs": [],
   "source": [
    "df_val['PU_DO'] = df_val['PULocationID'] + '_' + df_val['DOLocationID']"
   ]
  },
  {
   "cell_type": "code",
   "execution_count": 13,
   "id": "3f7e650d",
   "metadata": {},
   "outputs": [],
   "source": [
    "categorical = ['PU_DO'] #'PULocationID', 'DOLocationID']\n",
    "numerical = ['trip_distance']\n",
    "\n",
    "dv = DictVectorizer()\n",
    "\n",
    "train_dicts = df_train[categorical + numerical].to_dict(orient='records')\n",
    "X_train = dv.fit_transform(train_dicts)\n",
    "\n",
    "val_dicts = df_val[categorical + numerical].to_dict(orient='records')\n",
    "X_val = dv.transform(val_dicts)"
   ]
  },
  {
   "cell_type": "code",
   "execution_count": 15,
   "id": "eb6f8b20",
   "metadata": {},
   "outputs": [],
   "source": [
    "target = 'duration'\n"
   ]
  },
  {
   "cell_type": "code",
   "execution_count": 16,
   "id": "c69a3fee",
   "metadata": {},
   "outputs": [],
   "source": [
    "y_train = df_train['duration'].values\n",
    "y_val = df_val[target].values"
   ]
  },
  {
   "cell_type": "code",
   "execution_count": 21,
   "id": "42b151cd",
   "metadata": {},
   "outputs": [
    {
     "data": {
      "text/plain": [
       "5.198291416700303"
      ]
     },
     "execution_count": 21,
     "metadata": {},
     "output_type": "execute_result"
    }
   ],
   "source": [
    "lr = LinearRegression()\n",
    "lr.fit(X_train, y_train)\n",
    "\n",
    "y_pred = lr.predict(X_val)\n",
    "\n",
    "mean_squared_error(y_val, y_pred, squared=False)"
   ]
  },
  {
   "cell_type": "code",
   "execution_count": 18,
   "id": "e6e33014",
   "metadata": {},
   "outputs": [],
   "source": [
    "import pickle"
   ]
  },
  {
   "cell_type": "code",
   "execution_count": 19,
   "id": "b2f35613",
   "metadata": {},
   "outputs": [],
   "source": [
    "with open('models/lin_reg.bin', 'wb') as f_out:\n",
    "    pickle.dump((dv, lr), f_out)"
   ]
  },
  {
   "cell_type": "code",
   "execution_count": 22,
   "id": "db494de9",
   "metadata": {},
   "outputs": [
    {
     "data": {
      "text/plain": [
       "9.395699095576239"
      ]
     },
     "execution_count": 22,
     "metadata": {},
     "output_type": "execute_result"
    }
   ],
   "source": [
    "lr = Lasso(0.01)\n",
    "lr.fit(X_train, y_train)\n",
    "\n",
    "y_pred = lr.predict(X_val)\n",
    "\n",
    "mean_squared_error(y_val, y_pred, squared=False)"
   ]
  },
  {
   "cell_type": "code",
   "execution_count": null,
   "id": "6b442590",
   "metadata": {},
   "outputs": [],
   "source": []
  }
 ],
 "metadata": {
  "kernelspec": {
   "display_name": "Python 3 (ipykernel)",
   "language": "python",
   "name": "python3"
  },
  "language_info": {
   "codemirror_mode": {
    "name": "ipython",
    "version": 3
   },
   "file_extension": ".py",
   "mimetype": "text/x-python",
   "name": "python",
   "nbconvert_exporter": "python",
   "pygments_lexer": "ipython3",
   "version": "3.9.12"
  }
 },
 "nbformat": 4,
 "nbformat_minor": 5
}
